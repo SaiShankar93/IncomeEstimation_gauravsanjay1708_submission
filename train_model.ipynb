{
 "cells": [
  {
   "cell_type": "code",
   "execution_count": 4,
   "metadata": {},
   "outputs": [
    {
     "name": "stdout",
     "output_type": "stream",
     "text": [
      "             id     var_0     var_1     var_2    var_3     var_4     pin  \\\n",
      "0  LOA-LCTEB3CH -0.025602  0.231069 -0.383226      NaN -0.521493  682012   \n",
      "1  LOA-QDPJHBSQ -0.135636 -0.423441       NaN      NaN       NaN  421004   \n",
      "2  LOA-JUML6KBY       NaN       NaN       NaN      NaN       NaN  110084   \n",
      "3  LOA-F43PQMC5 -0.021385 -0.219847       NaN      NaN       NaN  401105   \n",
      "4  LOA-151UELMQ -0.106188 -0.227795       NaN  0.38482       NaN  783123   \n",
      "\n",
      "      var_5     var_6     var_7  ...  gender  marital_status           city  \\\n",
      "0 -0.234522 -0.013011       NaN  ...  FEMALE                         Kaloor   \n",
      "1       NaN -0.094765       NaN  ...  FEMALE                          Thane   \n",
      "2       NaN -0.093262       NaN  ...    MALE                  Central Delhi   \n",
      "3       NaN -0.055950       NaN  ...     NaN                          Thane   \n",
      "4       NaN -0.025937  0.859505  ...    MALE                       Goalpara   \n",
      "\n",
      "         state  residence_ownership  target_income  device_model  \\\n",
      "0       Kerala                  NaN        44000.0           NaN   \n",
      "1  Maharashtra                  NaN        31515.0      Moto E32   \n",
      "2        Delhi                  NaN        19100.0       RMX1801   \n",
      "3  Maharashtra                  NaN        15000.0         V2311   \n",
      "4        Assam                  NaN        35042.0           NaN   \n",
      "\n",
      "   device_category  platform  device_manufacturer  \n",
      "0              NaN       NaN                  NaN  \n",
      "1      SMART PHONE   ANDROID             motorola  \n",
      "2      SMART PHONE   ANDROID                 oppo  \n",
      "3      SMART PHONE   ANDROID                 vivo  \n",
      "4              NaN       NaN                  NaN  \n",
      "\n",
      "[5 rows x 89 columns]\n"
     ]
    }
   ],
   "source": [
    "import pandas as pd\n",
    "\n",
    "# Load the dataset\n",
    "df = pd.read_csv('datasets/Hackathon_bureau_data_50000.csv')\n",
    "\n",
    "# Display the first few rows\n",
    "print(df.head())"
   ]
  }
 ],
 "metadata": {
  "kernelspec": {
   "display_name": "env",
   "language": "python",
   "name": "python3"
  },
  "language_info": {
   "codemirror_mode": {
    "name": "ipython",
    "version": 3
   },
   "file_extension": ".py",
   "mimetype": "text/x-python",
   "name": "python",
   "nbconvert_exporter": "python",
   "pygments_lexer": "ipython3",
   "version": "3.13.3"
  }
 },
 "nbformat": 4,
 "nbformat_minor": 5
}
